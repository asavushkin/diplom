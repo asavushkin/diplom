{
 "cells": [
  {
   "cell_type": "code",
   "execution_count": 3,
   "metadata": {},
   "outputs": [],
   "source": [
    "import numpy as np\n",
    "import math\n",
    "def dot(vA, vB):\n",
    "    return vA[0]*vB[0]+vA[1]*vB[1]\n",
    "\n",
    "def joint_similarity(joint_x,joint_y):    \n",
    "    lambda_ang = -5\n",
    "    lambda_lr  = -2\n",
    "    #joint_x\n",
    "    x_coords_x = [x[0] for x in joint_x]\n",
    "    y_coords_x = [y[1] for y in joint_x] \n",
    "    \n",
    "    #считаем длины сегментов joint_x \n",
    "    left_length_x = ((x_coords_x[1] - x_coords_x[0])**2 + (y_coords_x[1] - y_coords_x[0])**2)**0.5\n",
    "    right_lentgh_x = ((x_coords_x[1] - x_coords_x[2])**2 + (y_coords_x[1] - y_coords_x[2])**2)**0.5\n",
    "    \n",
    "    #отношение длин сегментов joint_x\n",
    "    gamma_x = left_length_x/right_lentgh_x\n",
    "    \n",
    "    #угол joint_x\n",
    "    point_a_x = [x_coords_x[0]-x_coords_x[1], y_coords_x[0]-y_coords_x[1]]\n",
    "    point_b_x = [x_coords_x[2]-x_coords_x[1], y_coords_x[2]-y_coords_x[1]]\n",
    "    ang_a_x = np.arctan2(*point_a_x[::-1])\n",
    "    ang_b_x = np.arctan2(*point_b_x[::-1])\n",
    "    angle_x = np.rad2deg((ang_b_x - ang_a_x) % (2 * np.pi))*np.pi/180 \n",
    "    \n",
    "    #joint_y\n",
    "    x_coords_y = [x[0] for x in joint_y]\n",
    "    y_coords_y = [y[1] for y in joint_y] \n",
    "    \n",
    "    #считаем длины сегментов joint_y \n",
    "    left_length_y = ((x_coords_y[1] - x_coords_y[0])**2 + (y_coords_y[1] - y_coords_y[0])**2)**0.5\n",
    "    right_lentgh_y = ((x_coords_y[1] - x_coords_y[2])**2 + (y_coords_y[1] - y_coords_y[2])**2)**0.5\n",
    "    \n",
    "    #отношение длин сегментов joint_y\n",
    "    gamma_y = left_length_y/right_lentgh_y\n",
    "    \n",
    "    #угол joint_y\n",
    "    point_a_y = [x_coords_y[0]-x_coords_y[1], y_coords_y[0]-y_coords_y[1]]\n",
    "    point_b_y = [x_coords_y[2]-x_coords_y[1], y_coords_y[2]-y_coords_y[1]]\n",
    "    ang_a_y = np.arctan2(*point_a_y[::-1])\n",
    "    ang_b_y = np.arctan2(*point_b_y[::-1])\n",
    "    angle_y = np.rad2deg((ang_b_y - ang_a_y) % (2 * np.pi))*np.pi/180 \n",
    "    segment_length_ratio = math.exp(lambda_lr * (1-min(gamma_x/gamma_y, gamma_y/gamma_x)))\n",
    "    segment_angle_ratio = math.exp(lambda_ang * abs(angle_x-angle_y))\n",
    "    return segment_length_ratio * segment_angle_ratio\n",
    "\n",
    "#функция, округляющая с необходимой точностью chain, но она оказалась не нужна ):\n",
    "def to_corr_chain(chain): \n",
    "    \n",
    "    #делаем loop для chain, добавляя в конец первую точку, а в начало последнюю\n",
    "    loop_chain=[]\n",
    "    loop_chain.append(chain[len(chain)-1])\n",
    "    for j in range(len(chain)):\n",
    "        loop_chain.append(chain[j])\n",
    "    loop_chain.append(chain[0])\n",
    "    x_coords = [x[0] for x in loop_chain]\n",
    "    y_coords = [y[1] for y in loop_chain] \n",
    "    \n",
    "    lengths_ratios=[]\n",
    "    angles=[]\n",
    "    \n",
    "    #считаем углы джоинтов и отношение длин сегментов, теперь каждый джоинт - это пара (отношение длинн, угол)\n",
    "    for j in range(len(loop_chain)-2):\n",
    "        \n",
    "        left_length = ((x_coords[j] - x_coords[j+1])**2 + (y_coords[j] - y_coords[j+1])**2)**0.5\n",
    "        right_lentgh = ((x_coords[j+2] - x_coords[j+1])**2 + (y_coords[j+2] - y_coords[j+1])**2)**0.5        \n",
    "        gamma_x = left_length/right_lentgh\n",
    "        lengths_ratios.append(left_length/right_lentgh) \n",
    "            \n",
    "        point_a = [x_coords[j]-x_coords[j+1], y_coords[j]-y_coords[j+1]]\n",
    "        point_b = [x_coords[j+2]-x_coords[j+1], y_coords[j+2]-y_coords[j+1]]\n",
    "        ang_a = np.arctan2(point_a[1],point_a[0])\n",
    "        ang_b = np.arctan2(point_b[1], point_b[0])\n",
    "        angle = np.rad2deg((ang_b - ang_a) % (2 * np.pi))\n",
    "        angles.append(angle)\n",
    "\n",
    "    #chain_pairs = np.column_stack((lengths_ratios,angles))\n",
    "    #print angles \n",
    "    #print lengths_ratios\n",
    "#каждый chain теперь это последовательность пар гамм(отношение длин сегментов джоинта) и тет(угол джоинта),\n",
    "#для того чтобы был joint_match нам нужно переделать переделать отношения длин, \n",
    "#которые в принципе вещественные -> в натуральные, а углы каждый из которых от [0,2*pi] в целые \n",
    "#в итоге с необходимой точностью джоинт [1.0, 154.45] и джоинт [1.1, 150.789] перейдут, например в джоинт [30, 78] \n",
    "    \n",
    "    \n",
    "#следующий цикл с необходимой точностью ставит в соответствие действительному числу натуральное(число ноль пусть тоже натуральное). \n",
    "#например с точностью 0.5 числа 0.51 0.9, 0.(98) - станут равными единице, 0.49 - станет нулем. \n",
    "   \n",
    "    accur_angles=[] #-массив округленных с необходимой точностью значений углов(тет)\n",
    "    accur_lengths_ratios=[] #-массив округленных с необходимой точностью гамм\n",
    "    for j in range(len(chain)): \n",
    "        angle_accuracy = 0.1\n",
    "        gamma_accuracy = 0.1\n",
    "        accur_angles.append(int(angles[j]/angle_accuracy)) \n",
    "        accur_lengths_ratios.append(int(lengths_ratios[j]/gamma_accuracy))\n",
    "        accur_chain_pairs = np.column_stack((accur_lengths_ratios,accur_angles))\n",
    "    #print accur_angles \n",
    "    #print accur_lengths_ratios\n",
    "    return accur_chain_pairs\n",
    "    \n",
    "#необходимо создать три матрицы:\n",
    "# 1) матрицу \"сходства\"(sim_matrix) где ячейка [i,j] будет соответстовать значению сходства(S_jnt) между i-ым и j-ым джоинтами \n",
    "# 2) матрицу \"штрафов\"(pen_matrix) где ячейка [i, j] будет соответсвовать значению штрафа в случае skipping \n",
    "# 3) матрицу Smith-Waterman(S_W_matrix) - матрица, получаемая из двух предыдущих матриц \n",
    "\n",
    "\n",
    "def sim_matrix(chain1, chain2):\n",
    "#в этой функции необходимо считать similarity между каждым джоинтом по принципу \"каждый с каждым\",\n",
    "#для этого воспользуемся функцией joint_similarity(J_x,J_y). Ее аргументами являются \"тройки\" пар, поэтому\n",
    "#разобьем каждый из chain на последовательные тройки пар с интервалом в одну пару. \n",
    "#например если chain - [(1,1),(2,2),(3,3)] - то получим массив из троек - ([[(1,1),(2,2),(3,3)],[(2,2),(3,3),(1,1)]),[]\n",
    "    \n",
    "    #looping chain1\n",
    "    loop_chain1=[]\n",
    "    loop_chain1.append(chain1[len(chain1)-1])\n",
    "    for j in range(len(chain1)):\n",
    "        loop_chain1.append(chain1[j])\n",
    "    loop_chain1.append(chain1[0])\n",
    "    \n",
    "    #массив джоинтов у chain1\n",
    "    seq_of_joints1 = []\n",
    "    for j in range(len(loop_chain1)-2):\n",
    "        seq_of_joints1.append((loop_chain1[j], loop_chain1[j+1],loop_chain1[j+2]))\n",
    "    \n",
    "    #looping chain1\n",
    "    loop_chain2=[]\n",
    "    loop_chain2.append(chain2[len(chain2)-1])\n",
    "    for j in range(len(chain2)):\n",
    "        loop_chain2.append(chain2[j])\n",
    "    loop_chain2.append(chain2[0])\n",
    "    \n",
    "    #массив джоинтов у chain2\n",
    "    seq_of_joints2 = []\n",
    "    for j in range(len(loop_chain2)-2):\n",
    "        seq_of_joints2.append((loop_chain2[j], loop_chain2[j+1],loop_chain2[j+2]))\n",
    "    \n",
    "    H = np.zeros((len(chain1) + 1, len(chain2) + 1))\n",
    "    \n",
    "    for i in range(len(chain1)):\n",
    "        for j in range(len(chain2)):\n",
    "            H[i+1,j+1]=joint_similarity(seq_of_joints1[i], seq_of_joints2[j])\n",
    "    #print H, \"sim_matrix !\"\n",
    "    return H \n",
    "\n",
    "#матрица штрафов для chain, пусть lambda_skc = 1\n",
    "def pen_matrix(chain):\n",
    "    lambda_skc = 1.0 #чувствительность от потери джоинта в длинах его сегмента\n",
    "    loop_chain=[]\n",
    "    loop_chain.append(chain[len(chain)-1])\n",
    "    for j in range(len(chain)):\n",
    "        loop_chain.append(chain[j])\n",
    "    loop_chain.append(chain[0])\n",
    "    x_coords = [x[0] for x in loop_chain]\n",
    "    y_coords = [y[1] for y in loop_chain] \n",
    "    \n",
    "    lengths_ratios=[]\n",
    "    angles=[]\n",
    "    penalties = []\n",
    "    for j in range(len(loop_chain)-2):\n",
    "        left_length = ((x_coords[j] - x_coords[j+1])**2 + (y_coords[j] - y_coords[j+1])**2)**0.5\n",
    "        right_lentgh = ((x_coords[j+2] - x_coords[j+1])**2 + (y_coords[j+2] - y_coords[j+1])**2)**0.5        \n",
    "        point_a = [x_coords[j]-x_coords[j+1], y_coords[j]-y_coords[j+1]]\n",
    "        point_b = [x_coords[j+2]-x_coords[j+1], y_coords[j+2]-y_coords[j+1]]\n",
    "        ang_a = np.arctan2(point_a[1],point_a[0])\n",
    "        ang_b = np.arctan2(point_b[1], point_b[0])\n",
    "        angle = np.rad2deg((ang_b - ang_a) % (2 * np.pi))\n",
    "        pen = 1 - math.exp(-abs(np.pi - angle)) + lambda_skc*(left_length+right_lentgh)/2\n",
    "        penalties.append(pen)\n",
    "    \n",
    "    #print \"penalties\", penalties \n",
    "    \n",
    "    return penalties\n",
    "    \n",
    "def chain_matching_score(chain1, chain2): \n",
    "        H = np.zeros((len(chain1) + 1, len(chain2) + 1))\n",
    "        #corr_chain1 = to_corr_chain(chain1)\n",
    "        #corr_chain2 = to_corr_chain(chain2)\n",
    "        s_matrix  = sim_matrix(chain1, chain2)\n",
    "        \n",
    "        p_matrix1 = pen_matrix(chain1)\n",
    "        p_matrix2 = pen_matrix(chain2)\n",
    "        \n",
    "        max_score = 0 \n",
    "        max_pos   = None\n",
    "        numb_matches = 1\n",
    "        for i in range(len(chain1)):\n",
    "            for j in range(len(chain2)):\n",
    "                H[i+1,j+1] = max(H[i,j]+s_matrix[i+1,j+1],H[i,j+1]- 0.07*p_matrix1[i],H[i+1,j]- 0.07*p_matrix2[j])\n",
    "                #print \"H[i-1,j-1]=\", H[i,j],'!',\"s_matrix[i+1,j+1]=\", s_matrix[i+1,j+1], \"!\"\n",
    "                #candidates_to = np.asarray([H[i,j]+s_matrix[i+1,j+1],H[i,j+1]- p_matrix1[i],H[i+1,j]- p_matrix2[j]])\n",
    "                #print \"candidates_to\", candidates_to,'!', \"H[i+1,j+1]\", H[i+1,j+1],'!'   \n",
    "                if  H[i+1,j+1] > max_score:\n",
    "                    max_score = H[i+1,j+1]\n",
    "                    max_pos   = (i+1, j+1)\n",
    "        #print chain_matching_score, \"score\", H \n",
    "        #traceback\n",
    "        chains_similarity = max_score\n",
    "        next_value = 0\n",
    "        candidates=[]\n",
    "        #i=0\n",
    "        #j=0\n",
    "        while True:   \n",
    "            next_value = max(H[max_pos[0], max_pos[1]-1], H[max_pos[0]-1, max_pos[1]-1], H[max_pos[0]-1, max_pos[1]])\n",
    "            candidates = np.asarray([H[max_pos[0], max_pos[1]-1], H[max_pos[0]-1, max_pos[1]-1], H[max_pos[0]-1, max_pos[1]]])\n",
    "            \n",
    "            #print \"candidates_for_back\", candidates,'!', \"next_value\",next_value,'!'\n",
    "            \n",
    "            if candidates.argmax() == 0:\n",
    "                max_pos = [max_pos[0], max_pos[1]-1]\n",
    "                #print \"skip\"\n",
    "            if candidates.argmax() == 1:\n",
    "                max_pos = [max_pos[0]-1, max_pos[1]-1]\n",
    "                \n",
    "                #print \"match!\"\n",
    "                \n",
    "                numb_matches = numb_matches + 1\n",
    "            if candidates.argmax() == 2:\n",
    "                max_pos = [max_pos[0]-1, max_pos[1]]\n",
    "                #print \"skip\"\n",
    "            \n",
    "            if max_pos[1] == 0:\n",
    "                break\n",
    "            if max_pos[0] == 0:\n",
    "                break\n",
    "            max_length=max(len(chain1),len(chain2))\n",
    "            #print \"max_length\", max_length, \"!!!\"\n",
    "            #print \"новая max_pos\", max_pos, \"max_pos[0]-\", max_pos[0],'max_pos[1]-', max_pos[1]\n",
    "            chains_similarity = chains_similarity + next_value \n",
    "            #print \"chains_similarity\", chains_similarity, \"!\"\n",
    "        chains_similarity = chains_similarity/(max_length*(max_length+1)/2.0)\n",
    "        return chains_similarity, numb_matches\n",
    "        \n",
    "def sum_angles_of(points):\n",
    "    x_coords = [x[0] for x in points]\n",
    "    y_coords = [y[1] for y in points]    \n",
    "    chain_len = len(points)\n",
    "    centroid_x = sum(x_coords)/chain_len #нашли первую координату барицентра\n",
    "    centroid_y = sum(y_coords)/chain_len #вторую\n",
    "    tensor=[]\n",
    "    sum_angles = 0\n",
    "    for p in points:\n",
    "        t = [(centroid_x-p[0]), (centroid_y-p[1])]   \n",
    "        tensor.append(t)\n",
    "    \n",
    "    for t in range(len(tensor)-1):\n",
    "        dot_prod = dot(tensor[t], tensor[t+1])\n",
    "        \n",
    "    #Считаем длины сегментов\n",
    "        length_seg_1 = dot(tensor[t], tensor[t])**0.5\n",
    "        length_seg_2 = dot(tensor[t+1], tensor[t+1])**0.5\n",
    "    #Находим косинусы между сегментами\n",
    "        cos_ = dot_prod/length_seg_1/length_seg_2\n",
    "    #Находим угол\n",
    "        angle = math.acos(dot_prod/length_seg_1/length_seg_2)\n",
    "        sum_angles = sum_angles + angle\n",
    "    return sum_angles\n",
    "\n",
    "def Global_Angle_Consistency(chain1, chain2): \n",
    "    lambda_ac = 0.1\n",
    "    sum_angles1 = sum_angles_of(chain1)\n",
    "    #print \"sum_angles1=\", sum_angles1, \"!\"\n",
    "    sum_angles2 = sum_angles_of(chain2)\n",
    "    #print \"sum_angles2=\", sum_angles2, \"!\"\n",
    "    number_of_matches = chain_matching_score(chain1, chain2)[1]\n",
    "    #print \"number_of_matches=\", number_of_matches, \"!\"\n",
    "    angle_consistency = math.exp(-lambda_ac*(sum_angles1 - sum_angles2)/number_of_matches)\n",
    "    return angle_consistency\n",
    "    \n",
    "def dist(chain1, chain2):\n",
    "    distance = Global_Angle_Consistency(chain1, chain2) * chain_matching_score(chain1, chain2)[0]\n",
    "    return distance\n"
   ]
  },
  {
   "cell_type": "code",
   "execution_count": 4,
   "metadata": {},
   "outputs": [
    {
     "data": {
      "text/plain": [
       "array([[   7, 3150],\n",
       "       [  14, 3150],\n",
       "       [  10, 2700]])"
      ]
     },
     "execution_count": 4,
     "metadata": {},
     "output_type": "execute_result"
    }
   ],
   "source": [
    "to_corr_chain([(0.0,1.0),(1.0,0.0),(1.0,1.0)])"
   ]
  },
  {
   "cell_type": "code",
   "execution_count": 5,
   "metadata": {},
   "outputs": [
    {
     "data": {
      "text/plain": [
       "array([[ 0.        ,  0.        ,  0.        ,  0.        ],\n",
       "       [ 0.        ,  0.36787944,  1.        ,  0.01096796],\n",
       "       [ 0.        ,  0.01096796,  0.01096796,  1.        ],\n",
       "       [ 0.        ,  1.        ,  0.36787944,  0.01096796]])"
      ]
     },
     "execution_count": 5,
     "metadata": {},
     "output_type": "execute_result"
    }
   ],
   "source": [
    "sim_matrix([(0.0,0.0),(1.0,0.0),(1.0,1.0)],[(0.0,0.0),(1.0,1.0),(0.0,1.0)])"
   ]
  },
  {
   "cell_type": "code",
   "execution_count": 6,
   "metadata": {},
   "outputs": [
    {
     "data": {
      "text/plain": [
       "[2.2071067811865475, 2.0, 2.2071067811865475]"
      ]
     },
     "execution_count": 6,
     "metadata": {},
     "output_type": "execute_result"
    }
   ],
   "source": [
    "pen_matrix([(0.0,0.0),(1.0,0.0),(1.0,1.0)])"
   ]
  },
  {
   "cell_type": "code",
   "execution_count": 7,
   "metadata": {},
   "outputs": [
    {
     "data": {
      "text/plain": [
       "(0.0076253968590708271, 2)"
      ]
     },
     "execution_count": 7,
     "metadata": {},
     "output_type": "execute_result"
    }
   ],
   "source": [
    "chain_matching_score([(12.23,14.43),(11.23214,345.355),(234.0,109.0)],[(3.0,1.0),(32.0,90.0),(21.0,44.0)])"
   ]
  },
  {
   "cell_type": "code",
   "execution_count": 8,
   "metadata": {},
   "outputs": [
    {
     "data": {
      "text/plain": [
       "1.0"
      ]
     },
     "execution_count": 8,
     "metadata": {},
     "output_type": "execute_result"
    }
   ],
   "source": [
    "Global_Angle_Consistency([(0.0,0.0),(1.0,1.0),(0.0,1.0)], [(0.0,0.0),(1.0,1.0),(0.0,1.0)])"
   ]
  },
  {
   "cell_type": "code",
   "execution_count": 9,
   "metadata": {},
   "outputs": [
    {
     "data": {
      "text/plain": [
       "1.0"
      ]
     },
     "execution_count": 9,
     "metadata": {},
     "output_type": "execute_result"
    }
   ],
   "source": [
    "dist([(0.0,0.0),(1.0,1.0),(0.0,1.0)], [(0.0,0.0),(1.0,1.0),(0.0,1.0)])"
   ]
  },
  {
   "cell_type": "code",
   "execution_count": 10,
   "metadata": {},
   "outputs": [
    {
     "data": {
      "text/plain": [
       "8.7589678050317677e-07"
      ]
     },
     "execution_count": 10,
     "metadata": {},
     "output_type": "execute_result"
    }
   ],
   "source": [
    "dist([(1.0,1.0),(0.0,2.0),(9.0,4.0)], [(1.0,8.0),(0.0,6.0),(9.0,6.0)])"
   ]
  },
  {
   "cell_type": "code",
   "execution_count": 11,
   "metadata": {},
   "outputs": [
    {
     "data": {
      "text/plain": [
       "0.24953533348172843"
      ]
     },
     "execution_count": 11,
     "metadata": {},
     "output_type": "execute_result"
    }
   ],
   "source": [
    "dist([(1.0,4.0),(0.0,2.0),(9.0,5.0)], [(1.0,8.0),(0.0,6.0),(9.0,6.0)])"
   ]
  },
  {
   "cell_type": "code",
   "execution_count": 12,
   "metadata": {},
   "outputs": [
    {
     "data": {
      "text/plain": [
       "0.086876136758746031"
      ]
     },
     "execution_count": 12,
     "metadata": {},
     "output_type": "execute_result"
    }
   ],
   "source": [
    "dist([(2.0,3.0),(1.0,2.0),(9.0,5.0)], [(1.0,8.0),(0.0,6.0),(9.0,6.0)])"
   ]
  },
  {
   "cell_type": "code",
   "execution_count": 13,
   "metadata": {},
   "outputs": [
    {
     "data": {
      "text/plain": [
       "8.7589678050317677e-07"
      ]
     },
     "execution_count": 13,
     "metadata": {},
     "output_type": "execute_result"
    }
   ],
   "source": [
    "dist([(1.0,1.0),(0.0,2.0),(9.0,4.0)], [(1.0,8.0),(0.0,6.0),(9.0,6.0)])"
   ]
  },
  {
   "cell_type": "code",
   "execution_count": 14,
   "metadata": {},
   "outputs": [
    {
     "data": {
      "text/plain": [
       "1.0"
      ]
     },
     "execution_count": 14,
     "metadata": {},
     "output_type": "execute_result"
    }
   ],
   "source": [
    "dist([(1.0,8.0),(0.0,6.0),(9.0,8.0)], [(1.0,8.0),(0.0,6.0),(9.0,8.0)])"
   ]
  },
  {
   "cell_type": "code",
   "execution_count": 15,
   "metadata": {},
   "outputs": [
    {
     "data": {
      "text/plain": [
       "1.0"
      ]
     },
     "execution_count": 15,
     "metadata": {},
     "output_type": "execute_result"
    }
   ],
   "source": [
    "dist([(38.0,82.0),(25.0,7.0),(64.0,41.0)], [(38.1,82.1),(25.1,7.1),(64.1,41.1)])"
   ]
  },
  {
   "cell_type": "code",
   "execution_count": 16,
   "metadata": {},
   "outputs": [],
   "source": [
    "#инвариантность к паралельному переносу. пример выше"
   ]
  },
  {
   "cell_type": "code",
   "execution_count": 17,
   "metadata": {},
   "outputs": [],
   "source": [
    "#dist([(-4.5,4.0),(-1.0,4.0),(-3.5,2.5),(-2.5,3.5),(-1.0,2.5),(-2.5,2.15),(-2.5,3.0),(1.5,3.5),(4.5,3.5),(1.5,2.5),(2.5,3.5),(3.5,2.5),(2.5,2.35),(2.5,2.80),(0.0,0.0),(-0.5,-0.5),(1.0,-0.5),(-1.5,-2.8),(-0.5,-2.15),(1.0,-2.15),(2.0,-2.5),(0.0,-3.5),(0.0,-2.7)],[(-4.0,4.0),(-1.5,3.6),(-3.5,2.5),(-2.5,2.9),(-1.3,2.3),(-2.5,1.9),(-2.5,2.5),(2.0,3.8),(4.3,2.8),(1.4,2.3),(2.5,3.0),(3.5,2.3),(2.5,1.6),(2.5,2.5),(0.0,0.0),(-0.8,-0.8),(0.7,-0.7),(-1.9,-2.6),(-0.7,-2.1),(0.6,-2.1),(1.9,-2.5),(0.0,-3.7),(0.0,-2.8)])"
   ]
  },
  {
   "cell_type": "code",
   "execution_count": 18,
   "metadata": {},
   "outputs": [],
   "source": [
    "#import csv\n",
    "#3,4\n",
    "#high_low = []\n",
    "#with open('prices.csv', \"w\") as csvfile:\n",
    "#    columns = [\"high\", \"low\"]\n",
    "#    writer = csv.reader(csvfile, fieldnames=columns)\n",
    "#    list(writer)\n",
    "   \n"
   ]
  },
  {
   "cell_type": "code",
   "execution_count": 19,
   "metadata": {},
   "outputs": [],
   "source": [
    "from numpy import genfromtxt\n",
    "my_data = genfromtxt('prices.csv', delimiter=',')"
   ]
  },
  {
   "cell_type": "code",
   "execution_count": 20,
   "metadata": {},
   "outputs": [
    {
     "data": {
      "image/png": "[encoded data removed]",
      "text/plain": [
       "<matplotlib.figure.Figure at 0x107e77610>"
      ]
     },
     "metadata": {},
     "output_type": "display_data"
    }
   ],
   "source": [
    "import numpy as np\n",
    "import matplotlib.pyplot as plt\n",
    "\n",
    "from numpy import genfromtxt\n",
    "my_data = genfromtxt('prices.csv', delimiter=',')\n",
    "#делаем первый chain data_1\n",
    "minim_1 = []\n",
    "maxim_1 =[]\n",
    "for row in my_data:\n",
    "    minim_1.append(row[3])\n",
    "    maxim_1.append(row[4])\n",
    "#del(minim_1[0])\n",
    "#del(maxim_1[0])\n",
    "\n",
    "month_minim_1 = []\n",
    "month_maxim_1 = []\n",
    "timestamps_1  = []\n",
    "\n",
    "\n",
    "for min_price_1 in range(0,30): \n",
    "    month_minim_1.append(minim_1[min_price_1])\n",
    "\n",
    "for max_price_1 in range(0,30): \n",
    "    month_maxim_1.append(maxim_1[max_price_1])\n",
    "\n",
    "\n",
    "month_maxim_1_back = month_maxim_1[::-1]\n",
    "\n",
    "for timestamp in range (0,30):\n",
    "    timestamps_1.append(timestamp)\n",
    "\n",
    "timestamps_back_1 = timestamps_1[::-1]\n",
    "\n",
    "\n",
    "min_time_1 = np.column_stack([month_minim_1,timestamps_1])\n",
    "max_time_1 = np.column_stack([month_maxim_1_back,timestamps_back_1]) \n",
    "\n",
    "\n",
    "min_time_1 = list(min_time_1)\n",
    "\n",
    "max_time_1 = list(max_time_1)\n",
    "\n",
    "data_1 = np.vstack((min_time_1,max_time_1))\n",
    "\n",
    "\n",
    "\n",
    "#делаем второй chain data_2\n",
    "minim_2 = []\n",
    "maxim_2 =[]\n",
    "for row in my_data:\n",
    "    minim_2.append(row[3])\n",
    "    maxim_2.append(row[4])\n",
    "\n",
    "\n",
    "month_minim_2 = []\n",
    "month_maxim_2 = []\n",
    "\n",
    "\n",
    "for min_price_2 in range(30,60): \n",
    "    month_minim_2.append(minim_2[min_price_2])\n",
    "\n",
    "for max_price_2 in range(30,60): \n",
    "    month_maxim_2.append(maxim_2[max_price_2])\n",
    "\n",
    "month_maxim_2_back = month_maxim_2[::-1]\n",
    "\n",
    "\n",
    "timestamps_2=[]\n",
    "\n",
    "for timestamp in range (30,60):\n",
    "    timestamps_2.append(timestamp)\n",
    "timestamps_back_2 = timestamps_2[::-1]\n",
    "\n",
    "min_time_2 = np.column_stack([month_minim_2,timestamps_2])\n",
    "max_time_2 = np.column_stack([month_maxim_2_back, timestamps_back_2]) \n",
    "\n",
    "\n",
    "min_time_2 = list(min_time_2)\n",
    "\n",
    "max_time_2 = list(max_time_2)\n",
    "\n",
    "data_2 = np.vstack((min_time_2,max_time_2))\n",
    "\n",
    "\n",
    "plt.plot(timestamps_1, month_minim_1)\n",
    "plt.plot(timestamps_back_1, month_maxim_1_back)\n",
    "plt.plot(timestamps_2, month_minim_2)\n",
    "plt.plot(timestamps_back_2, month_maxim_2_back)\n",
    "plt.show()\n"
   ]
  },
  {
   "cell_type": "code",
   "execution_count": 26,
   "metadata": {},
   "outputs": [
    {
     "name": "stdout",
     "output_type": "stream",
     "text": [
      "[[ 78.94  30.  ]\n",
      " [ 68.88  31.  ]\n",
      " [ 66.31  32.  ]\n",
      " [ 62.    33.  ]\n",
      " [ 65.94  34.  ]\n",
      " [ 69.63  35.  ]\n",
      " [ 68.94  36.  ]\n",
      " [ 68.    37.  ]\n",
      " [ 69.81  38.  ]\n",
      " [ 69.38  39.  ]\n",
      " [ 72.88  40.  ]\n",
      " [ 72.    41.  ]\n",
      " [ 70.88  42.  ]\n",
      " [ 69.38  43.  ]\n",
      " [ 71.81  44.  ]\n",
      " [ 69.63  45.  ]\n",
      " [ 69.25  46.  ]\n",
      " [ 70.5   47.  ]\n",
      " [ 69.5   48.  ]\n",
      " [ 67.63  49.  ]\n",
      " [ 72.    50.  ]\n",
      " [ 76.5   51.  ]\n",
      " [ 77.75  52.  ]\n",
      " [ 77.75  53.  ]\n",
      " [ 80.    54.  ]\n",
      " [ 82.19  55.  ]\n",
      " [ 78.69  56.  ]\n",
      " [ 78.81  57.  ]\n",
      " [ 76.81  58.  ]\n",
      " [ 76.94  59.  ]\n",
      " [ 74.81  59.  ]\n",
      " [ 74.81  58.  ]\n",
      " [ 75.31  57.  ]\n",
      " [ 75.69  56.  ]\n",
      " [ 78.25  55.  ]\n",
      " [ 76.25  54.  ]\n",
      " [ 75.    53.  ]\n",
      " [ 73.81  52.  ]\n",
      " [ 71.56  51.  ]\n",
      " [ 66.25  50.  ]\n",
      " [ 64.75  49.  ]\n",
      " [ 67.44  48.  ]\n",
      " [ 67.25  47.  ]\n",
      " [ 67.88  46.  ]\n",
      " [ 66.44  45.  ]\n",
      " [ 68.    44.  ]\n",
      " [ 66.44  43.  ]\n",
      " [ 67.5   42.  ]\n",
      " [ 69.81  41.  ]\n",
      " [ 68.13  40.  ]\n",
      " [ 67.    39.  ]\n",
      " [ 66.    38.  ]\n",
      " [ 64.06  37.  ]\n",
      " [ 66.44  36.  ]\n",
      " [ 67.56  35.  ]\n",
      " [ 59.    34.  ]\n",
      " [ 58.13  33.  ]\n",
      " [ 61.31  32.  ]\n",
      " [ 64.75  31.  ]\n",
      " [ 67.38  30.  ]]\n"
     ]
    }
   ],
   "source": [
    "dist(data_1,data_2)\n",
    "print data_1 "
   ]
  },
  {
   "cell_type": "code",
   "execution_count": 28,
   "metadata": {},
   "outputs": [
    {
     "data": {
      "image/png": "[encoded data removed]",
      "text/plain": [
       "<matplotlib.figure.Figure at 0x10780c8d0>"
      ]
     },
     "metadata": {},
     "output_type": "display_data"
    }
   ],
   "source": [
    "import numpy as np\n",
    "import matplotlib.pyplot as plt\n",
    "\n",
    "from numpy import genfromtxt\n",
    "my_data = genfromtxt('prices.csv', delimiter=',')\n",
    "#делаем первый chain data_1\n",
    "minim_1 = []\n",
    "maxim_1 =[]\n",
    "for row in my_data:\n",
    "    minim_1.append(row[3])\n",
    "    maxim_1.append(row[4])\n",
    "del(minim_1[0])\n",
    "del(maxim_1[0])\n",
    "\n",
    "month_minim_1 = []\n",
    "month_maxim_1 = []\n",
    "timestamps_1  = []\n",
    "\n",
    "\n",
    "for min_price_1 in range(30,60): \n",
    "    month_minim_1.append(minim_1[min_price_1])\n",
    "\n",
    "for max_price_1 in range(30,60): \n",
    "    month_maxim_1.append(maxim_1[max_price_1])\n",
    "\n",
    "\n",
    "month_maxim_1_back =month_maxim_1[::-1]\n",
    "\n",
    "for timestamp in range (30,60):\n",
    "    timestamps_1.append(timestamp)\n",
    "\n",
    "timestamps_back_1 = timestamps_1[::-1]\n",
    "\n",
    "#print \"timestamps\", timestamps, \"timestamps_back\", timestamps_back\n",
    "\n",
    " \n",
    "#max_not_back = np.column_stack([month_maxim_1,timestamps])\n",
    "#print \"max_not_back\", max_not_back\n",
    "\n",
    "\n",
    "min_time_1 = np.column_stack([month_minim_1,timestamps_1])\n",
    "max_time_1 = np.column_stack([month_maxim_1_back,timestamps_back_1]) \n",
    "\n",
    "#print \"max_back\", max_time_1\n",
    "\n",
    "min_time_1 = list(min_time_1)\n",
    "\n",
    "max_time_1 = list(max_time_1)\n",
    "\n",
    "data_1 = np.vstack((min_time_1,max_time_1))\n",
    "\n",
    "#print \"data_1\",data_1\n",
    "\n",
    "\n",
    "\n",
    "\n",
    "\n",
    "\n",
    "#делаем второй chain data_2\n",
    "minim_2 = []\n",
    "maxim_2 =[]\n",
    "for row in my_data:\n",
    "    minim_2.append(row[3])\n",
    "    maxim_2.append(row[4])\n",
    "\n",
    "\n",
    "month_minim_2 = []\n",
    "month_maxim_2 = []\n",
    "\n",
    "\n",
    "for min_price_2 in range(60,90): \n",
    "    month_minim_2.append(minim_2[min_price_2])\n",
    "\n",
    "for max_price_2 in range(60,90): \n",
    "    month_maxim_2.append(maxim_2[max_price_2])\n",
    "\n",
    "month_maxim_2_back = month_maxim_2[::-1]\n",
    "\n",
    "#print \"month_maxim_2_back\",month_maxim_2_back\n",
    "#print \"timestamps_back\",timestamps_back\n",
    "\n",
    "timestamps_2=[]\n",
    "#print \"month_minim_2\", month_minim_2\n",
    "#print \"timestamps_2\",timestamps_2\n",
    "for timestamp in range (60,90):\n",
    "    timestamps_2.append(timestamp)\n",
    "timestamps_back_2 = timestamps_2[::-1]\n",
    "\n",
    "min_time_2 = np.column_stack([month_minim_2,timestamps_2])\n",
    "max_time_2 = np.column_stack([month_maxim_2_back, timestamps_back_2]) \n",
    "\n",
    "\n",
    "min_time_2 = list(min_time_2)\n",
    "\n",
    "max_time_2 = list(max_time_2)\n",
    "\n",
    "data_2 = np.vstack((min_time_2,max_time_2))\n",
    "\n",
    "#print \"timestamps_1\",timestamps_1\n",
    "#print \"timestamps_back_1\", timestamps_back_1\n",
    "#print \"timestamps_2\",timestamps_2 \n",
    "#print \"timestamps_back_2\",timestamps_back_2\n",
    "\n",
    "\n",
    "\n",
    "\n",
    "#print \"month_mimin_1\", month_minim_1 \n",
    "#print \"data_1\", data_1\n",
    "#print \"data_2\", data_2\n",
    "\n",
    "\n",
    "plt.plot(timestamps_1, month_minim_1)\n",
    "plt.plot(timestamps_back_1, month_maxim_1_back)\n",
    "plt.plot(timestamps_2, month_minim_2)\n",
    "plt.plot(timestamps_back_2, month_maxim_2_back)\n",
    "\n",
    "#plt.plot(timestamps_1,data_1[1])\n",
    "plt.show()"
   ]
  },
  {
   "cell_type": "code",
   "execution_count": 29,
   "metadata": {},
   "outputs": [
    {
     "name": "stdout",
     "output_type": "stream",
     "text": [
      "[[ 78.94  30.  ]\n",
      " [ 68.88  31.  ]\n",
      " [ 66.31  32.  ]\n",
      " [ 62.    33.  ]\n",
      " [ 65.94  34.  ]\n",
      " [ 69.63  35.  ]\n",
      " [ 68.94  36.  ]\n",
      " [ 68.    37.  ]\n",
      " [ 69.81  38.  ]\n",
      " [ 69.38  39.  ]\n",
      " [ 72.88  40.  ]\n",
      " [ 72.    41.  ]\n",
      " [ 70.88  42.  ]\n",
      " [ 69.38  43.  ]\n",
      " [ 71.81  44.  ]\n",
      " [ 69.63  45.  ]\n",
      " [ 69.25  46.  ]\n",
      " [ 70.5   47.  ]\n",
      " [ 69.5   48.  ]\n",
      " [ 67.63  49.  ]\n",
      " [ 72.    50.  ]\n",
      " [ 76.5   51.  ]\n",
      " [ 77.75  52.  ]\n",
      " [ 77.75  53.  ]\n",
      " [ 80.    54.  ]\n",
      " [ 82.19  55.  ]\n",
      " [ 78.69  56.  ]\n",
      " [ 78.81  57.  ]\n",
      " [ 76.81  58.  ]\n",
      " [ 76.94  59.  ]\n",
      " [ 74.81  59.  ]\n",
      " [ 74.81  58.  ]\n",
      " [ 75.31  57.  ]\n",
      " [ 75.69  56.  ]\n",
      " [ 78.25  55.  ]\n",
      " [ 76.25  54.  ]\n",
      " [ 75.    53.  ]\n",
      " [ 73.81  52.  ]\n",
      " [ 71.56  51.  ]\n",
      " [ 66.25  50.  ]\n",
      " [ 64.75  49.  ]\n",
      " [ 67.44  48.  ]\n",
      " [ 67.25  47.  ]\n",
      " [ 67.88  46.  ]\n",
      " [ 66.44  45.  ]\n",
      " [ 68.    44.  ]\n",
      " [ 66.44  43.  ]\n",
      " [ 67.5   42.  ]\n",
      " [ 69.81  41.  ]\n",
      " [ 68.13  40.  ]\n",
      " [ 67.    39.  ]\n",
      " [ 66.    38.  ]\n",
      " [ 64.06  37.  ]\n",
      " [ 66.44  36.  ]\n",
      " [ 67.56  35.  ]\n",
      " [ 59.    34.  ]\n",
      " [ 58.13  33.  ]\n",
      " [ 61.31  32.  ]\n",
      " [ 64.75  31.  ]\n",
      " [ 67.38  30.  ]]\n"
     ]
    }
   ],
   "source": [
    "dist(data_1,data_2)\n",
    "print data_1"
   ]
  },
  {
   "cell_type": "code",
   "execution_count": 236,
   "metadata": {},
   "outputs": [
    {
     "data": {
      "image/png": "[encoded data removed]",
      "text/plain": [
       "<matplotlib.figure.Figure at 0x10ce73bd0>"
      ]
     },
     "metadata": {},
     "output_type": "display_data"
    }
   ],
   "source": [
    "import numpy as np\n",
    "import matplotlib.pyplot as plt\n",
    "\n",
    "from numpy import genfromtxt\n",
    "my_data = genfromtxt('prices.csv', delimiter=',')\n",
    "#делаем первый chain data_1\n",
    "minim_1 = []\n",
    "maxim_1 =[]\n",
    "for row in my_data:\n",
    "    minim_1.append(row[3])\n",
    "    maxim_1.append(row[4])\n",
    "#del(minim_1[0])\n",
    "#del(maxim_1[0])\n",
    "\n",
    "month_minim_1 = []\n",
    "month_maxim_1 = []\n",
    "timestamps_1  = []\n",
    "\n",
    "\n",
    "for min_price_1 in range(60,90): \n",
    "    month_minim_1.append(minim_1[min_price_1])\n",
    "\n",
    "for max_price_1 in range(60,90): \n",
    "    month_maxim_1.append(maxim_1[max_price_1])\n",
    "\n",
    "\n",
    "month_maxim_1_back =month_maxim_1[::-1]\n",
    "\n",
    "for timestamp in range (60,90):\n",
    "    timestamps_1.append(timestamp)\n",
    "\n",
    "timestamps_back_1 = timestamps_1[::-1]\n",
    "\n",
    "#print \"timestamps\", timestamps, \"timestamps_back\", timestamps_back\n",
    "\n",
    " \n",
    "#max_not_back = np.column_stack([month_maxim_1,timestamps])\n",
    "#print \"max_not_back\", max_not_back\n",
    "\n",
    "\n",
    "min_time_1 = np.column_stack([month_minim_1,timestamps_1])\n",
    "max_time_1 = np.column_stack([month_maxim_1_back,timestamps_back_1]) \n",
    "\n",
    "#print \"max_back\", max_time_1\n",
    "\n",
    "min_time_1 = list(min_time_1)\n",
    "\n",
    "max_time_1 = list(max_time_1)\n",
    "\n",
    "data_1 = np.vstack((min_time_1,max_time_1))\n",
    "\n",
    "#print \"data_1\",data_1\n",
    "\n",
    "\n",
    "\n",
    "\n",
    "\n",
    "\n",
    "#делаем второй chain data_2\n",
    "minim_2 = []\n",
    "maxim_2 =[]\n",
    "for row in my_data:\n",
    "    minim_2.append(row[3])\n",
    "    maxim_2.append(row[4])\n",
    "\n",
    "\n",
    "month_minim_2 = []\n",
    "month_maxim_2 = []\n",
    "\n",
    "\n",
    "for min_price_2 in range(90,120): \n",
    "    month_minim_2.append(minim_2[min_price_2])\n",
    "\n",
    "for max_price_2 in range(90,120): \n",
    "    month_maxim_2.append(maxim_2[max_price_2])\n",
    "\n",
    "month_maxim_2_back = month_maxim_2[::-1]\n",
    "\n",
    "#print \"month_maxim_2_back\",month_maxim_2_back\n",
    "#print \"timestamps_back\",timestamps_back\n",
    "\n",
    "timestamps_2=[]\n",
    "#print \"month_minim_2\", month_minim_2\n",
    "#print \"timestamps_2\",timestamps_2\n",
    "for timestamp in range (90,120):\n",
    "    timestamps_2.append(timestamp)\n",
    "timestamps_back_2 = timestamps_2[::-1]\n",
    "\n",
    "min_time_2 = np.column_stack([month_minim_2,timestamps_2])\n",
    "max_time_2 = np.column_stack([month_maxim_2_back, timestamps_back_2]) \n",
    "\n",
    "\n",
    "min_time_2 = list(min_time_2)\n",
    "\n",
    "max_time_2 = list(max_time_2)\n",
    "\n",
    "data_2 = np.vstack((min_time_2,max_time_2))\n",
    "\n",
    "#print \"timestamps_1\",timestamps_1\n",
    "#print \"timestamps_back_1\", timestamps_back_1\n",
    "#print \"timestamps_2\",timestamps_2 \n",
    "#print \"timestamps_back_2\",timestamps_back_2\n",
    "\n",
    "\n",
    "\n",
    "\n",
    "#print \"month_mimin_1\", month_minim_1 \n",
    "#print \"data_1\", data_1\n",
    "#print \"data_2\", data_2\n",
    "\n",
    "\n",
    "plt.plot(timestamps_1, month_minim_1)\n",
    "plt.plot(timestamps_back_1, month_maxim_1_back)\n",
    "plt.plot(timestamps_2, month_minim_2)\n",
    "plt.plot(timestamps_back_2, month_maxim_2_back)\n",
    "\n",
    "#plt.plot(timestamps_1,data_1[1])\n",
    "plt.show()"
   ]
  },
  {
   "cell_type": "code",
   "execution_count": 39,
   "metadata": {},
   "outputs": [
    {
     "data": {
      "text/plain": [
       "1.0"
      ]
     },
     "execution_count": 39,
     "metadata": {},
     "output_type": "execute_result"
    }
   ],
   "source": [
    "dist(data_1,data_1)"
   ]
  },
  {
   "cell_type": "code",
   "execution_count": 31,
   "metadata": {},
   "outputs": [
    {
     "data": {
      "image/png": "[encoded data removed]",
      "text/plain": [
       "<matplotlib.figure.Figure at 0x107ed70d0>"
      ]
     },
     "metadata": {},
     "output_type": "display_data"
    }
   ],
   "source": [
    "import numpy as np\n",
    "import matplotlib.pyplot as plt\n",
    "\n",
    "from numpy import genfromtxt\n",
    "my_data = genfromtxt('prices.csv', delimiter=',')\n",
    "#делаем первый chain data_1\n",
    "minim_1 = []\n",
    "maxim_1 =[]\n",
    "for row in my_data:\n",
    "    minim_1.append(row[3])\n",
    "    maxim_1.append(row[4])\n",
    "#del(minim_1[0])\n",
    "#del(maxim_1[0])\n",
    "\n",
    "month_minim_1 = []\n",
    "month_maxim_1 = []\n",
    "timestamps_1  = []\n",
    "\n",
    "\n",
    "for min_price_1 in range(90,120): \n",
    "    month_minim_1.append(minim_1[min_price_1])\n",
    "\n",
    "for max_price_1 in range(90,120): \n",
    "    month_maxim_1.append(maxim_1[max_price_1])\n",
    "\n",
    "\n",
    "month_maxim_1_back =month_maxim_1[::-1]\n",
    "\n",
    "for timestamp in range (90,120):\n",
    "    timestamps_1.append(timestamp)\n",
    "\n",
    "timestamps_back_1 = timestamps_1[::-1]\n",
    "\n",
    "#print \"timestamps\", timestamps, \"timestamps_back\", timestamps_back\n",
    "\n",
    " \n",
    "#max_not_back = np.column_stack([month_maxim_1,timestamps])\n",
    "#print \"max_not_back\", max_not_back\n",
    "\n",
    "\n",
    "min_time_1 = np.column_stack([month_minim_1,timestamps_1])\n",
    "max_time_1 = np.column_stack([month_maxim_1_back,timestamps_back_1]) \n",
    "\n",
    "#print \"max_back\", max_time_1\n",
    "\n",
    "min_time_1 = list(min_time_1)\n",
    "\n",
    "max_time_1 = list(max_time_1)\n",
    "\n",
    "data_1 = np.vstack((min_time_1,max_time_1))\n",
    "\n",
    "#print \"data_1\",data_1\n",
    "\n",
    "\n",
    "\n",
    "\n",
    "\n",
    "\n",
    "#делаем второй chain data_2\n",
    "minim_2 = []\n",
    "maxim_2 =[]\n",
    "for row in my_data:\n",
    "    minim_2.append(row[3])\n",
    "    maxim_2.append(row[4])\n",
    "\n",
    "\n",
    "month_minim_2 = []\n",
    "month_maxim_2 = []\n",
    "\n",
    "\n",
    "for min_price_2 in range(120,150): \n",
    "    month_minim_2.append(minim_2[min_price_2])\n",
    "\n",
    "for max_price_2 in range(120,150): \n",
    "    month_maxim_2.append(maxim_2[max_price_2])\n",
    "\n",
    "month_maxim_2_back = month_maxim_2[::-1]\n",
    "\n",
    "#print \"month_maxim_2_back\",month_maxim_2_back\n",
    "#print \"timestamps_back\",timestamps_back\n",
    "\n",
    "timestamps_2=[]\n",
    "#print \"month_minim_2\", month_minim_2\n",
    "#print \"timestamps_2\",timestamps_2\n",
    "for timestamp in range (120,150):\n",
    "    timestamps_2.append(timestamp)\n",
    "timestamps_back_2 = timestamps_2[::-1]\n",
    "\n",
    "min_time_2 = np.column_stack([month_minim_2,timestamps_2])\n",
    "max_time_2 = np.column_stack([month_maxim_2_back, timestamps_back_2]) \n",
    "\n",
    "\n",
    "min_time_2 = list(min_time_2)\n",
    "\n",
    "max_time_2 = list(max_time_2)\n",
    "\n",
    "data_2 = np.vstack((min_time_2,max_time_2))\n",
    "\n",
    "#print \"timestamps_1\",timestamps_1\n",
    "#print \"timestamps_back_1\", timestamps_back_1\n",
    "#print \"timestamps_2\",timestamps_2 \n",
    "#print \"timestamps_back_2\",timestamps_back_2\n",
    "\n",
    "\n",
    "\n",
    "\n",
    "#print \"month_mimin_1\", month_minim_1 \n",
    "#print \"data_1\", data_1\n",
    "#print \"data_2\", data_2\n",
    "\n",
    "\n",
    "plt.plot(timestamps_1, month_minim_1)\n",
    "plt.plot(timestamps_back_1, month_maxim_1_back)\n",
    "plt.plot(timestamps_2, month_minim_2)\n",
    "plt.plot(timestamps_back_2, month_maxim_2_back)\n",
    "\n",
    "#plt.plot(timestamps_1,data_1[1])\n",
    "plt.show()"
   ]
  },
  {
   "cell_type": "code",
   "execution_count": 32,
   "metadata": {},
   "outputs": [
    {
     "data": {
      "text/plain": [
       "0.10895585737418785"
      ]
     },
     "execution_count": 32,
     "metadata": {},
     "output_type": "execute_result"
    }
   ],
   "source": [
    "dist(data_1,data_2)"
   ]
  },
  {
   "cell_type": "code",
   "execution_count": 38,
   "metadata": {},
   "outputs": [
    {
     "data": {
      "image/png": "[encoded data removed]",
      "text/plain": [
       "<matplotlib.figure.Figure at 0x107b8c150>"
      ]
     },
     "metadata": {},
     "output_type": "display_data"
    }
   ],
   "source": [
    "import numpy as np\n",
    "import matplotlib.pyplot as plt\n",
    "\n",
    "from numpy import genfromtxt\n",
    "my_data = genfromtxt('prices.csv', delimiter=',')\n",
    "\n",
    "#делаем первый chain data_1\n",
    "minim_1 = []\n",
    "maxim_1 =[]\n",
    "for row in my_data:\n",
    "    minim_1.append(row[3])\n",
    "    maxim_1.append(row[4])\n",
    "month_minim_1 = []\n",
    "month_maxim_1 = []\n",
    "timestamps_1  = []\n",
    "for min_price_1 in range(150,180): \n",
    "    month_minim_1.append(minim_1[min_price_1])\n",
    "for max_price_1 in range(150,180): \n",
    "    month_maxim_1.append(maxim_1[max_price_1])\n",
    "month_maxim_1_back =month_maxim_1[::-1]\n",
    "for timestamp in range (150,180):\n",
    "    timestamps_1.append(timestamp)\n",
    "timestamps_back_1 = timestamps_1[::-1]\n",
    "min_time_1 = np.column_stack([month_minim_1,timestamps_1])\n",
    "max_time_1 = np.column_stack([month_maxim_1_back,timestamps_back_1]) \n",
    "min_time_1 = list(min_time_1)\n",
    "max_time_1 = list(max_time_1)\n",
    "data_1 = np.vstack((min_time_1,max_time_1))\n",
    "#делаем второй chain data_2\n",
    "minim_2 = []\n",
    "maxim_2 =[]\n",
    "for row in my_data:\n",
    "    minim_2.append(row[3])\n",
    "    maxim_2.append(row[4])\n",
    "month_minim_2 = []\n",
    "month_maxim_2 = []\n",
    "for min_price_2 in range(180,210): \n",
    "    month_minim_2.append(minim_2[min_price_2])\n",
    "for max_price_2 in range(180,210): \n",
    "    month_maxim_2.append(maxim_2[max_price_2])\n",
    "month_maxim_2_back = month_maxim_2[::-1]\n",
    "timestamps_2=[]\n",
    "for timestamp in range (180,210):\n",
    "    timestamps_2.append(timestamp)\n",
    "timestamps_back_2 = timestamps_2[::-1]\n",
    "min_time_2 = np.column_stack([month_minim_2,timestamps_2])\n",
    "max_time_2 = np.column_stack([month_maxim_2_back, timestamps_back_2]) \n",
    "min_time_2 = list(min_time_2)\n",
    "max_time_2 = list(max_time_2)\n",
    "data_2 = np.vstack((min_time_2,max_time_2))\n",
    "\n",
    "plt.plot(timestamps_1, month_minim_1)\n",
    "plt.plot(timestamps_back_1, month_maxim_1_back)\n",
    "plt.plot(timestamps_2, month_minim_2)\n",
    "plt.plot(timestamps_back_2, month_maxim_2_back)\n",
    "\n",
    "#plt.plot(timestamps_1,data_1[1])\n",
    "plt.show()\n",
    "\n"
   ]
  },
  {
   "cell_type": "code",
   "execution_count": 36,
   "metadata": {},
   "outputs": [
    {
     "data": {
      "text/plain": [
       "0.096745213584911227"
      ]
     },
     "execution_count": 36,
     "metadata": {},
     "output_type": "execute_result"
    }
   ],
   "source": [
    "dist(data_1,data_2)"
   ]
  },
  {
   "cell_type": "code",
   "execution_count": 11,
   "metadata": {},
   "outputs": [],
   "source": [
    "#сохраняем картинку на носитель\n",
    "import matplotlib.pyplot as plt\n",
    "fig, ax = plt.subplots( nrows=1, ncols=1 )  # create figure & 1 axis\n",
    "ax.plot(timestamps_1, month_minim_1)\n",
    "fig.savefig('/Users/admin/Desktop/database/bar.png')   # save the figure to file\n",
    "plt.close(fig) "
   ]
  },
  {
   "cell_type": "code",
   "execution_count": null,
   "metadata": {},
   "outputs": [],
   "source": []
  }
 ],
 "metadata": {
  "kernelspec": {
   "display_name": "Python 2",
   "language": "python",
   "name": "python2"
  },
  "language_info": {
   "codemirror_mode": {
    "name": "ipython",
    "version": 2
   },
   "file_extension": ".py",
   "mimetype": "text/x-python",
   "name": "python",
   "nbconvert_exporter": "python",
   "pygments_lexer": "ipython2",
   "version": "2.7.13"
  }
 },
 "nbformat": 4,
 "nbformat_minor": 2
}
