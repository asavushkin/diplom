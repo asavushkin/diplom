{
 "cells": [
  {
   "cell_type": "code",
   "execution_count": 1084,
   "metadata": {},
   "outputs": [],
   "source": [
    "import numpy as np\n",
    "\n",
    "def joint_similarity(joint_x,joint_y):\n",
    "    #joint_x\n",
    "    x_coords_x = [x[0] for x in joint_x]\n",
    "    y_coords_x = [y[1] for y in joint_x] \n",
    "    \n",
    "    #считаем длины сегментов joint_x \n",
    "    left_length_x = ((x_coords_x[1] - x_coords_x[0])**2 + (y_coords_x[1] - y_coords_x[0])**2)**0.5\n",
    "    right_lentgh_x = ((x_coords_x[1] - x_coords_x[2])**2 + (y_coords_x[1] - y_coords_x[2])**2)**0.5\n",
    "    \n",
    "    #отношение длин сегментов joint_x\n",
    "    gamma_x = left_length_x/right_lentgh_x\n",
    "    \n",
    "    #угол joint_x\n",
    "    point_a_x = [x_coords_x[0]-x_coords_x[1], y_coords_x[0]-y_coords_x[1]]\n",
    "    point_b_x = [x_coords_x[2]-x_coords_x[1], y_coords_x[2]-y_coords_x[1]]\n",
    "    ang_a_x = np.arctan2(*point_a_x[::-1])\n",
    "    ang_b_x = np.arctan2(*point_b_x[::-1])\n",
    "    angle_x = np.rad2deg((ang_b_x - ang_a_x) % (2 * np.pi))*np.pi/180 \n",
    "    \n",
    "    #joint_y\n",
    "    x_coords_y = [x[0] for x in joint_y]\n",
    "    y_coords_y = [y[1] for y in joint_y] \n",
    "    \n",
    "    #считаем длины сегментов joint_y \n",
    "    left_length_y = ((x_coords_y[1] - x_coords_y[0])**2 + (y_coords_y[1] - y_coords_y[0])**2)**0.5\n",
    "    right_lentgh_y = ((x_coords_y[1] - x_coords_y[2])**2 + (y_coords_y[1] - y_coords_y[2])**2)**0.5\n",
    "    \n",
    "    #отношение длин сегментов joint_y\n",
    "    gamma_y = left_length_y/right_lentgh_y\n",
    "    \n",
    "    #угол joint_y\n",
    "    point_a_y = [x_coords_y[0]-x_coords_y[1], y_coords_y[0]-y_coords_y[1]]\n",
    "    point_b_y = [x_coords_y[2]-x_coords_y[1], y_coords_y[2]-y_coords_y[1]]\n",
    "    ang_a_y = np.arctan2(*point_a_y[::-1])\n",
    "    ang_b_y = np.arctan2(*point_b_y[::-1])\n",
    "    angle_y = np.rad2deg((ang_b_y - ang_a_y) % (2 * np.pi))*np.pi/180 \n",
    "    \n",
    "    segment_length_ratio = math.exp(-0.5*(1-min(gamma_x/gamma_y, gamma_y/gamma_x)))\n",
    "    \n",
    "    segment_angle_ratio = math.exp(-2*abs(angle_x-angle_y))\n",
    "    \n",
    "    \n",
    "    return segment_length_ratio * segment_angle_ratio\n",
    "\n",
    "\n",
    "#функция, округляющая с необходимой точностью chain, но она оказалась не нужна ):\n",
    "def to_corr_chain(chain): \n",
    "    \n",
    "    #делаем loop для chain, добавляя в конец первую точку, а в начало последнюю\n",
    "    loop_chain=[]\n",
    "    loop_chain.append(chain[len(chain)-1])\n",
    "    for j in range(len(chain)):\n",
    "        loop_chain.append(chain[j])\n",
    "    loop_chain.append(chain[0])\n",
    "    x_coords = [x[0] for x in loop_chain]\n",
    "    y_coords = [y[1] for y in loop_chain] \n",
    "    \n",
    "    lengths_ratios=[]\n",
    "    angles=[]\n",
    "    \n",
    "    #считаем углы джоинтов и отношение длин сегментов, теперь каждый джоинт - это пара (отношение длинн, угол)\n",
    "    for j in range(len(loop_chain)-2):\n",
    "        \n",
    "        left_length = ((x_coords[j] - x_coords[j+1])**2 + (y_coords[j] - y_coords[j+1])**2)**0.5\n",
    "        right_lentgh = ((x_coords[j+2] - x_coords[j+1])**2 + (y_coords[j+2] - y_coords[j+1])**2)**0.5        \n",
    "        gamma_x = left_length/right_lentgh\n",
    "        lengths_ratios.append(left_length/right_lentgh) \n",
    "        \n",
    "        \n",
    "        \n",
    "        \n",
    "        point_a = [x_coords[j]-x_coords[j+1], y_coords[j]-y_coords[j+1]]\n",
    "        point_b = [x_coords[j+2]-x_coords[j+1], y_coords[j+2]-y_coords[j+1]]\n",
    "        ang_a = np.arctan2(point_a[1],point_a[0])\n",
    "        ang_b = np.arctan2(point_b[1], point_b[0])\n",
    "        angle = np.rad2deg((ang_b - ang_a) % (2 * np.pi))\n",
    "        angles.append(angle)\n",
    "\n",
    "    #chain_pairs = np.column_stack((lengths_ratios,angles))\n",
    "    #print angles \n",
    "    #print lengths_ratios\n",
    "#каждый chain теперь это последовательность пар гамм(отношение длин сегментов джоинта) и тет(угол джоинта),\n",
    "#для того чтобы был joint_match нам нужно переделать переделать отношения длин, \n",
    "#которые в принципе вещественные -> в натуральные, а углы каждый из которых от [0,2*pi] в целые \n",
    "#в итоге с необходимой точностью джоинт [1.0, 154.45] и джоинт [1.1, 150.789] перейдут, например в джоинт [30, 78] \n",
    "    \n",
    "    \n",
    "#следующий цикл с необходимой точностью ставит в соответствие действительному числу натуральное(число ноль пусть тоже натуральное). \n",
    "#например с точностью 0.5 числа 0.51 0.9, 0.(98) - станут равными единице, 0.49 - станет нулем. \n",
    "   \n",
    "    accur_angles=[] #-массив округленных с необходимой точностью значений углов(тет)\n",
    "    accur_lengths_ratios=[] #-массив округленных с необходимой точностью гамм\n",
    "    for j in range(len(chain)): \n",
    "        angle_accuracy = 0.1\n",
    "        gamma_accuracy = 0.1\n",
    "        accur_angles.append(int(angles[j]/angle_accuracy)) \n",
    "        accur_lengths_ratios.append(int(lengths_ratios[j]/gamma_accuracy))\n",
    "        accur_chain_pairs = np.column_stack((accur_lengths_ratios,accur_angles))\n",
    "    #print accur_angles \n",
    "    #print accur_lengths_ratios\n",
    "    return accur_chain_pairs\n",
    "    \n",
    "#необходимо создать три матрицы:\n",
    "# 1) матрицу \"сходства\"(sim_matrix) где ячейка [i,j] будет соответстовать значению сходства(S_jnt) между i-ым и j-ым джоинтами \n",
    "# 2) матрицу \"штрафов\"(pen_matrix) где ячейка [i, j] будет соответсвовать значению штрафа в случае skipping \n",
    "# 3) матрицу Smith-Waterman(S_W_matrix) - матрица, получаемая из двух предыдущих матриц \n",
    "\n",
    "\n",
    "def sim_matrix(chain1, chain2):\n",
    "#в этой функции необходимо считать similarity между каждым джоинтом по принципу \"каждый с каждым\",\n",
    "#для этого воспользуемся функцией joint_similarity(J_x,J_y). Ее аргументами являются \"тройки\" пар, поэтому\n",
    "#разобьем каждый из chain на последовательные тройки пар с интервалом в одну пару. \n",
    "#например если chain - [(1,1),(2,2),(3,3)] - то получим массив из троек - ([[(1,1),(2,2),(3,3)],[(2,2),(3,3),(1,1)]),[]\n",
    "    \n",
    "    #looping chain1\n",
    "    loop_chain1=[]\n",
    "    loop_chain1.append(chain1[len(chain1)-1])\n",
    "    for j in range(len(chain1)):\n",
    "        loop_chain1.append(chain1[j])\n",
    "    loop_chain1.append(chain1[0])\n",
    "    \n",
    "    #массив джоинтов у chain1\n",
    "    seq_of_joints1 = []\n",
    "    for j in range(len(loop_chain1)-2):\n",
    "        seq_of_joints1.append((loop_chain1[j], loop_chain1[j+1],loop_chain1[j+2]))\n",
    "    \n",
    "    \n",
    "    #looping chain1\n",
    "    loop_chain2=[]\n",
    "    loop_chain2.append(chain2[len(chain2)-1])\n",
    "    for j in range(len(chain2)):\n",
    "        loop_chain2.append(chain2[j])\n",
    "    loop_chain2.append(chain2[0])\n",
    "    \n",
    "    #массив джоинтов у chain2\n",
    "    seq_of_joints2 = []\n",
    "    for j in range(len(loop_chain2)-2):\n",
    "        seq_of_joints2.append((loop_chain2[j], loop_chain2[j+1],loop_chain2[j+2]))\n",
    "    \n",
    "    H = np.zeros((len(chain1) + 1, len(chain2) + 1))\n",
    "    \n",
    "    for i in range(len(chain1)):\n",
    "        for j in range(len(chain2)):\n",
    "            H[i+1,j+1]=joint_similarity(seq_of_joints1[i], seq_of_joints2[j])\n",
    "    return H \n",
    "\n",
    "#матрица штрафов для chain, пусть lambda_skc = 1\n",
    "def pen_matrix(chain):\n",
    "    \n",
    "    lambda_skc = 1.0 #чувствительность от потери джоинта в длинах его сегмента\n",
    "    loop_chain=[]\n",
    "    loop_chain.append(chain[len(chain)-1])\n",
    "    for j in range(len(chain)):\n",
    "        loop_chain.append(chain[j])\n",
    "    loop_chain.append(chain[0])\n",
    "    x_coords = [x[0] for x in loop_chain]\n",
    "    y_coords = [y[1] for y in loop_chain] \n",
    "    \n",
    "    lengths_ratios=[]\n",
    "    angles=[]\n",
    "    penalties = []\n",
    "    for j in range(len(loop_chain)-2):\n",
    "        left_length = ((x_coords[j] - x_coords[j+1])**2 + (y_coords[j] - y_coords[j+1])**2)**0.5\n",
    "        right_lentgh = ((x_coords[j+2] - x_coords[j+1])**2 + (y_coords[j+2] - y_coords[j+1])**2)**0.5        \n",
    "        point_a = [x_coords[j]-x_coords[j+1], y_coords[j]-y_coords[j+1]]\n",
    "        point_b = [x_coords[j+2]-x_coords[j+1], y_coords[j+2]-y_coords[j+1]]\n",
    "        ang_a = np.arctan2(point_a[1],point_a[0])\n",
    "        ang_b = np.arctan2(point_b[1], point_b[0])\n",
    "        angle = np.rad2deg((ang_b - ang_a) % (2 * np.pi))\n",
    "        pen = 1 - math.exp(-abs(np.pi - angle)) + lambda_skc*(left_length+right_lentgh)/2\n",
    "        penalties.append(pen)\n",
    "    return penalties\n",
    "    \n",
    "def distance(chain1, chain2): \n",
    "        H = np.zeros((len(chain1) + 1, len(chain2) + 1))\n",
    "        #corr_chain1 = to_corr_chain(chain1)\n",
    "        #corr_chain2 = to_corr_chain(chain2)\n",
    "        s_matrix  = sim_matrix(chain1, chain2)\n",
    "        \n",
    "        p_matrix1 = pen_matrix(chain1)\n",
    "        p_matrix2 = pen_matrix(chain2)\n",
    "        \n",
    "        max_score = 0 \n",
    "        max_pos   = None\n",
    "        for i in range(len(chain1)):\n",
    "            for j in range(len(chain2)):\n",
    "                H[i+1,j+1] = max(H[i-1,j-1]+s_matrix[i+1,j+1],H[i,j+1]- p_matrix1[i],H[i+1,j]- p_matrix2[j])\n",
    "                if  H[i+1,j+1] > max_score:\n",
    "                    max_score = H[i+1,j+1]\n",
    "                    max_pos   = (i+1, j+1)\n",
    "        print H\n",
    "        #traceback\n",
    "        chains_similarity = max_score\n",
    "        next_value = 0\n",
    "        candidates=[]\n",
    "        #i=0\n",
    "        #j=0\n",
    "        while True:\n",
    "            \n",
    "            next_value = max(H[max_pos[0], max_pos[1]-1], H[max_pos[0]-1, max_pos[1]-1], H[max_pos[0]-1, max_pos[1]])\n",
    "            candidates = np.asarray([H[max_pos[0], max_pos[1]-1], H[max_pos[0]-1, max_pos[1]-1], H[max_pos[0]-1, max_pos[1]]])\n",
    "            \n",
    "            print \"candidates\", candidates,'!', \"next_value\",next_value,'!'\n",
    "            \n",
    "            if candidates.argmax() == 0:\n",
    "                max_pos = [max_pos[0], max_pos[1]-1]\n",
    "            if candidates.argmax() == 1:\n",
    "                max_pos = [max_pos[0]-1, max_pos[1]-1]\n",
    "            if candidates.argmax() == 2:\n",
    "                 max_pos = [max_pos[0]-1, max_pos[1]]\n",
    "            if max_pos[1] == 0:\n",
    "                break\n",
    "            if max_pos[0] == 0:\n",
    "                break\n",
    "            \n",
    "            #print \"новая max_pos\", max_pos, \"max_pos[0]-\", max_pos[0],'max_pos[1]-', max_pos[1]\n",
    "            chains_similarity = chains_similarity + next_value \n",
    "            #print \"chains_similarity\", chains_similarity, \"!\"\n",
    "        chains_similarity = chains_similarity/min(len(chain1)+1,len(chain2)+1)\n",
    "        return chains_similarity\n",
    "        \n",
    "\n",
    "\n",
    "\n",
    "\n",
    "\n"
   ]
  },
  {
   "cell_type": "code",
   "execution_count": 1085,
   "metadata": {},
   "outputs": [
    {
     "data": {
      "text/plain": [
       "array([[   7, 3150],\n",
       "       [  14, 3150],\n",
       "       [  10, 2700]])"
      ]
     },
     "execution_count": 1085,
     "metadata": {},
     "output_type": "execute_result"
    }
   ],
   "source": [
    "to_corr_chain([(0.0,1.0),(1.0,0.0),(1.0,1.0)])"
   ]
  },
  {
   "cell_type": "code",
   "execution_count": 1086,
   "metadata": {},
   "outputs": [
    {
     "data": {
      "text/plain": [
       "array([[ 0.        ,  0.        ,  0.        ,  0.        ],\n",
       "       [ 0.        ,  0.77880078,  1.        ,  0.17956053],\n",
       "       [ 0.        ,  0.17956053,  0.17956053,  1.        ],\n",
       "       [ 0.        ,  1.        ,  0.77880078,  0.17956053]])"
      ]
     },
     "execution_count": 1086,
     "metadata": {},
     "output_type": "execute_result"
    }
   ],
   "source": [
    "sim_matrix([(0.0,0.0),(1.0,0.0),(1.0,1.0)],[(0.0,0.0),(1.0,1.0),(0.0,1.0)])"
   ]
  },
  {
   "cell_type": "code",
   "execution_count": 1087,
   "metadata": {},
   "outputs": [
    {
     "data": {
      "text/plain": [
       "[2.2071067811865475, 2.0, 2.2071067811865475]"
      ]
     },
     "execution_count": 1087,
     "metadata": {},
     "output_type": "execute_result"
    }
   ],
   "source": [
    "pen_matrix([(0.0,0.0),(1.0,0.0),(1.0,1.0)])"
   ]
  },
  {
   "cell_type": "code",
   "execution_count": 1089,
   "metadata": {},
   "outputs": [
    {
     "name": "stdout",
     "output_type": "stream",
     "text": [
      "[[ 0.          0.          0.          0.        ]\n",
      " [ 0.          0.76253523  0.39226062  0.02982789]\n",
      " [ 0.          0.4177233   0.81105098  0.05048194]\n",
      " [ 0.          0.06284709  0.04416739  1.70003312]]\n",
      "candidates [ 0.04416739  0.81105098  0.05048194] ! next_value 0.811050979481 !\n",
      "candidates [ 0.4177233   0.76253523  0.39226062] ! next_value 0.762535230486 !\n",
      "candidates [ 0.  0.  0.] ! next_value 0.0 !\n"
     ]
    },
    {
     "data": {
      "text/plain": [
       "0.81840483146654974"
      ]
     },
     "execution_count": 1089,
     "metadata": {},
     "output_type": "execute_result"
    }
   ],
   "source": [
    "distance([(11.0,0.0),(2.0,0.0),(19.0,94.0)],[(18.0,0.0),(6.0,0.0),(19.0,95.0)])"
   ]
  },
  {
   "cell_type": "code",
   "execution_count": 672,
   "metadata": {},
   "outputs": [
    {
     "data": {
      "text/plain": [
       "5"
      ]
     },
     "execution_count": 672,
     "metadata": {},
     "output_type": "execute_result"
    }
   ],
   "source": [
    "max(3,4,5)"
   ]
  },
  {
   "cell_type": "code",
   "execution_count": null,
   "metadata": {},
   "outputs": [],
   "source": []
  }
 ],
 "metadata": {
  "kernelspec": {
   "display_name": "Python 2",
   "language": "python",
   "name": "python2"
  },
  "language_info": {
   "codemirror_mode": {
    "name": "ipython",
    "version": 2
   },
   "file_extension": ".py",
   "mimetype": "text/x-python",
   "name": "python",
   "nbconvert_exporter": "python",
   "pygments_lexer": "ipython2",
   "version": "2.7.13"
  }
 },
 "nbformat": 4,
 "nbformat_minor": 2
}
