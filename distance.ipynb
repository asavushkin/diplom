{
 "cells": [
  {
   "cell_type": "code",
   "execution_count": 54,
   "metadata": {},
   "outputs": [
    {
     "data": {
      "text/plain": [
       "922602715.0914416"
      ]
     },
     "execution_count": 54,
     "metadata": {},
     "output_type": "execute_result"
    }
   ],
   "source": [
    "import math\n",
    "\n",
    "def dot(vA, vB):\n",
    "    return vA[0]*vB[0]+vA[1]*vB[1]\n",
    "\n",
    "#Нам нужно посчитать угол образованный координатой сентроида и последовательными парами координат(J_i, J_{i+1})\n",
    "#первая пара координат в seg_1 и seg_2 - координаты барицентра. \n",
    "\n",
    "def sum_angles_C(*points):\n",
    "    x_coords = [p[0] for p in points]\n",
    "    y_coords = [p[1] for p in points]\n",
    "    chain_len = len(points)\n",
    "    centroid_x = sum(x_coords)/chain_len #нашли первую координату барицентра\n",
    "    centroid_y = sum(y_coords)/chain_len #вторую\n",
    "    tensor=[]\n",
    "    s=0\n",
    "    for p in points:\n",
    "        t = [(centroid_x-p[0]), (centroid_y-p[1])]   \n",
    "        tensor.append(t)\n",
    "    \n",
    "    for t in range(len(tensor)-1):\n",
    "        dot_prod = dot(tensor[t], tensor[t+1])\n",
    "        \n",
    "    # Считаем длины сегментов\n",
    "        length_seg_1 = dot(tensor[t], tensor[t])**0.5\n",
    "        length_seg_2 = dot(tensor[t+1], tensor[t+1])**0.5\n",
    "    # Находим косинусы между сегментами\n",
    "        cos_ = dot_prod/length_seg_1/length_seg_2\n",
    "    # Находим угол\n",
    "        angle = math.acos(dot_prod/length_seg_1/length_seg_2)\n",
    "    # приводим радианы к градусам\n",
    "        ang_deg = math.degrees(angle)%360\n",
    "        s=s+ang_deg\n",
    "    return s\n",
    "\n",
    "#Передаем в функцию скаляр lambd, общее количество Joints между С_1 и С_2, matching score и \n",
    "#последовательности точек - chains1, chains2\n",
    "\n",
    "def dist(lambd, N_joints, CMS,  Chain1, Chain2):\n",
    "    sum1 = sum_angles_C(*Chain1)*1.0\n",
    "    #print sum1\n",
    "    sum2 = sum_angles_C(*Chain2)*1.0\n",
    "    #print sum2\n",
    "    GAC = math.exp((-lambd/N_joints)*(sum1-sum2))\n",
    "    CS = GAC * CMS\n",
    "    return CS\n",
    "\n",
    "#lambd = 1\n",
    "#N_joints = 3\n",
    "#CMS = 1\n",
    "\n",
    "dist(1,3,1,[(0.0,0.0),(0.0,1.0),(1.0,0.0)], [(0.0,0.0),(0.0,1.0),(1.0,0.0)])\n",
    "\n",
    "#как видно что расстояние между одинаковыми последовательностями равно 1 (e^0), вроде так и должно быть \n",
    "\n",
    "dist(1,3,1,[(78.0,34.0),(178.0,90.0),(6666.0,19.7777777)], [(8.0,1.0),(9.0,3.0),(0.0,0.0)])\n",
    "\n"
   ]
  },
  {
   "cell_type": "code",
   "execution_count": null,
   "metadata": {},
   "outputs": [],
   "source": []
  }
 ],
 "metadata": {
  "kernelspec": {
   "display_name": "conda env tensorflow",
   "language": "python",
   "name": "tensorflow"
  },
  "language_info": {
   "codemirror_mode": {
    "name": "ipython",
    "version": 2
   },
   "file_extension": ".py",
   "mimetype": "text/x-python",
   "name": "python",
   "nbconvert_exporter": "python",
   "pygments_lexer": "ipython2",
   "version": "2.7.13"
  }
 },
 "nbformat": 4,
 "nbformat_minor": 2
}
