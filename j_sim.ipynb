{
 "cells": [
  {
   "cell_type": "code",
   "execution_count": 1,
   "metadata": {},
   "outputs": [],
   "source": [
    "import math\n",
    "import numpy as np\n",
    "\n",
    "def segment_length_difference(gamma_x, gamma_y): \n",
    "    lambda_lr=3\n",
    "    return math.exp(lambda_lr*(1-min(gamma_x/gamma_y, gamma_y/gamma_x)))\n",
    "\n",
    "\n",
    "def segment_angle_difference(angle_x, angle_y): \n",
    "   \n",
    "    return math.exp(-2*abs(angle_x-angle_y))\n",
    "\n",
    "\n",
    "def joint_similarity(joint_x,joint_y):\n",
    "    #joint_x\n",
    "    \n",
    "    x_coords_x = [x[0] for x in joint_x]\n",
    "    y_coords_x = [y[1] for y in joint_x] \n",
    "    \n",
    "    #считаем длины сегментов joint_x \n",
    "    left_length_x = ((x_coords_x[1] - x_coords_x[0])**2 + (y_coords_x[1] - y_coords_x[0])**2)**0.5\n",
    "    right_lentgh_x = ((x_coords_x[1] - x_coords_x[2])**2 + (y_coords_x[1] - y_coords_x[2])**2)**0.5\n",
    "    \n",
    "    #отношение длин сегментов joint_x\n",
    "    gamma_x = left_length_x/right_lentgh_x\n",
    "    \n",
    "    #угол joint_x\n",
    "    point_a_x = [x_coords_x[1]-x_coords_x[0], y_coords_x[1]-y_coords_x[0]]\n",
    "    point_b_x = [x_coords_x[2]-x_coords_x[1], y_coords_x[2]-y_coords_x[1]]\n",
    "    ang_a_x = np.arctan2(*point_a_x[::-1])\n",
    "    ang_b_x = np.arctan2(*point_b_x[::-1])\n",
    "    angle_x = np.rad2deg((ang_a_x - ang_b_x))*np.pi/180\n",
    "    \n",
    "    #joint_y\n",
    "    x_coords_y = [x[0] for x in joint_y]\n",
    "    y_coords_y = [y[1] for y in joint_y] \n",
    "    \n",
    "    #считаем длины сегментов joint_y \n",
    "    left_length_y = ((x_coords_y[1] - x_coords_y[0])**2 + (y_coords_y[1] - y_coords_y[0])**2)**0.5\n",
    "    right_lentgh_y = ((x_coords_y[1] - x_coords_y[2])**2 + (y_coords_y[1] - y_coords_y[2])**2)**0.5\n",
    "    \n",
    "    #отношение длин сегментов joint_y\n",
    "    gamma_y = left_length_y/right_lentgh_y\n",
    "    \n",
    "    #угол joint_y\n",
    "    point_a_y = [x_coords_y[1]-x_coords_y[0], y_coords_y[1]-y_coords_y[0]]\n",
    "    point_b_y = [x_coords_y[2]-x_coords_y[1], y_coords_y[2]-y_coords_y[1]]\n",
    "    ang_a_y = np.arctan2(*point_a_y[::-1])\n",
    "    ang_b_y = np.arctan2(*point_b_y[::-1])\n",
    "    angle_y = np.rad2deg((ang_a_y - ang_b_y))*np.pi/180\n",
    "    print angle_x, angle_y\n",
    "    #segment_length_ratio = math.exp(0.5*(1-min(gamma_x/gamma_y, gamma_y/gamma_x)))\n",
    "    \n",
    "    #segment_angle_ratio = math.exp(-2*abs(angle_x-angle_y))\n",
    "    \n",
    "    \n",
    "    return segment_length_difference(gamma_x, gamma_y) * segment_angle_difference(angle_x, angle_y)"
   ]
  },
  {
   "cell_type": "code",
   "execution_count": 2,
   "metadata": {},
   "outputs": [
    {
     "name": "stdout",
     "output_type": "stream",
     "text": [
      "-1.57079632679 2.35619449019\n"
     ]
    },
    {
     "data": {
      "text/plain": [
       "0.0009346840712041618"
      ]
     },
     "execution_count": 2,
     "metadata": {},
     "output_type": "execute_result"
    }
   ],
   "source": [
    "joint_similarity([(0.0,1.0),(0.0,0.0),(1.0,0.0)],[(0.0,0.0),(0.0,1.0),(1.0,0.0)])\n"
   ]
  },
  {
   "cell_type": "code",
   "execution_count": null,
   "metadata": {},
   "outputs": [],
   "source": []
  }
 ],
 "metadata": {
  "kernelspec": {
   "display_name": "Python 2",
   "language": "python",
   "name": "python2"
  },
  "language_info": {
   "codemirror_mode": {
    "name": "ipython",
    "version": 2
   },
   "file_extension": ".py",
   "mimetype": "text/x-python",
   "name": "python",
   "nbconvert_exporter": "python",
   "pygments_lexer": "ipython2",
   "version": "2.7.13"
  }
 },
 "nbformat": 4,
 "nbformat_minor": 2
}
