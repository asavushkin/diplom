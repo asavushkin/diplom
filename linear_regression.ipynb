{
 "cells": [
  {
   "cell_type": "code",
   "execution_count": 143,
   "metadata": {},
   "outputs": [
    {
     "name": "stdout",
     "output_type": "stream",
     "text": [
      "<unknown>\n"
     ]
    },
    {
     "data": {
      "image/png": "[encoded data removed]",
      "text/plain": [
       "<matplotlib.figure.Figure at 0x122b3d9d0>"
      ]
     },
     "metadata": {},
     "output_type": "display_data"
    }
   ],
   "source": [
    "import numpy as np\n",
    "import tensorflow as tf\n",
    "import matplotlib.pyplot as plt\n",
    "\n",
    "# Сгенерируем 100 значений cos от нуля до 3 с равномерным шумом(a=-0.5, b=0.5) \n",
    "\n",
    "n_obs = 1000\n",
    "xs = np.linspace(-3, 3, n_observations)\n",
    "ys = np.sin(xs) + np.random.uniform(-0.5, 0.5, n_observations)\n",
    "plt.plot(xs,ys, \"ro\")\n",
    "\n",
    "\n",
    "# Создание графа\n",
    "\n",
    "# На первом шаге создаем два динамических(None) плейсхолдера c именами X и Y для input и output data\n",
    "# Placeholder(через него передаем данные нашему графу) - переменная, которую определим позже\n",
    "\n",
    "X = tf.placeholder(tf.float32)\n",
    "Y = tf.placeholder(tf.float32)\n",
    "\n",
    "# На втором шаге создаем Variables\n",
    "# Различие Variable от placeholder состоит в том, что Variable - конструктор для того, что тренируется\n",
    "# В модели линейной регрессии y = X*w + b, мы создаем Variable для w и b(как раз они и подгоняются под данные)\n",
    "# в нашей модели в Y_pred, X записываются  тензоры размерности nx1. В  W и b тензоры размерности 1х1\n",
    "\n",
    "W = tf.Variable(tf.random_normal([1]), name='weight')\n",
    "b = tf.Variable(tf.random_normal([1]), name='bias')\n",
    "Y_pred = tf.add(tf.multiply(X, W), b)\n",
    "\n",
    "# Запишем функцию потерь(расстояние между predictions and real observations)\n",
    "\n",
    "cost = tf.reduce_sum(tf.pow(Y_pred - Y, 2)) / (n_obs - 1)\n",
    "\n",
    "# На вход GradientDescentOptimizer подадется константное значение learning_rate. \n",
    "# GradientDescentOptimizer работает следущим образом: мы на каждом шаге из переменной вычитаем grad*Learning_rate. \n",
    "\n",
    " \n",
    "learning_rate = 0.01\n",
    "optimizer = tf.train.GradientDescentOptimizer(learning_rate).minimize(cost)\n",
    "n_epochs = 1000\n",
    "\n",
    "#Создаем сессию для инициализации переменных\n",
    "sess = tf.InteractiveSession()\n",
    "sess.run(tf.global_variables_initializer()) #инициализируем\n",
    "\n",
    "    \n",
    "prev_training_cost = 0.0 \n",
    "for epoch_i in range(n_epochs):\n",
    "    for (x, y) in zip(xs, ys):\n",
    "        sess.run(optimizer, feed_dict={X: x, Y: y}) #Заполняем данными плейсхолдеры  \n",
    "    training_cost = sess.run(cost, feed_dict={X: xs, Y: ys}) #считаем расстояние в каждой эпохе\n",
    "                  \n",
    "#перестаем обучаться когда расстояния почти не меняются\n",
    "    if np.abs(prev_training_cost - training_cost) < 0.000001:\n",
    "        break\n",
    "    prev_training_cost = training_cost\n",
    "           \n",
    "plt.plot(xs, sess.run(Y_pred, feed_dict={X:xs}))\n",
    "plt.show()"
   ]
  }
 ],
 "metadata": {
  "kernelspec": {
   "display_name": "conda env tensorflow",
   "language": "python",
   "name": "tensorflow"
  },
  "language_info": {
   "codemirror_mode": {
    "name": "ipython",
    "version": 2
   },
   "file_extension": ".py",
   "mimetype": "text/x-python",
   "name": "python",
   "nbconvert_exporter": "python",
   "pygments_lexer": "ipython2",
   "version": "2.7.13"
  }
 },
 "nbformat": 4,
 "nbformat_minor": 2
}
